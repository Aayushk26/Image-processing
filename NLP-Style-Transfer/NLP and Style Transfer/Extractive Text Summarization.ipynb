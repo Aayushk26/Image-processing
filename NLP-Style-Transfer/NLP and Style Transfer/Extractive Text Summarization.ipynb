{
 "cells": [
  {
   "cell_type": "code",
   "execution_count": 1,
   "metadata": {},
   "outputs": [],
   "source": [
    "import spacy\n",
    "from spacy.lang.en.stop_words import STOP_WORDS\n",
    "from string import punctuation\n",
    "import pandas as pd\n",
    "import numpy as np\n",
    "stopwords = list(STOP_WORDS)\n",
    "from spacy.lang.en import English\n",
    "\n"
   ]
  },
  {
   "cell_type": "code",
   "execution_count": 2,
   "metadata": {},
   "outputs": [],
   "source": [
    "document1='A brief on whether the common currency has done good or bad.In response to Covid19 relief measures, the European Central Bank has bought 3 trillion euro worth debts as a part of Quantitative Easing, and despite that interest rates are simmering. While the nations are recovering, Southern European nations are facing dire structural problems. Stronger countries like Germany and the Netherlands will recover much sooner than countries with weaker fundamentals like Italy, Spain, and Greece. In this article thus I will be exploring what are foundational problems in the Euro system concerning the Euro crisis of the previous decade. Let us start by understanding what the Eurozone is. It is a group of nations that use the Euro as their common currency. They have a single market of goods, capital, labor, and a customs union that imposes a common tax on goods entering from outside the union. The single market implies they have a free trade agreement with member nations imposing no tariffs on each other. Since we assess the viability of the Euro in the EUs single trade and customs union, it would fit us to first demarcate our premise.'"
   ]
  },
  {
   "cell_type": "code",
   "execution_count": 3,
   "metadata": {},
   "outputs": [],
   "source": [
    "document2='The potential harms materialized after the 2008 crisis. One must realize that the whole process of investments, capital flow, and other related problems emerged to an extent from the single market. The exposition of Greece’s tax evasion and debt crisis meant their credibility was lost, investments were backing out, wages were falling and no one was lending money. A complete recession in a recession.'"
   ]
  },
  {
   "cell_type": "code",
   "execution_count": 4,
   "metadata": {},
   "outputs": [],
   "source": [
    "\n",
    "nlp = spacy.load('en_core_web_sm')"
   ]
  },
  {
   "cell_type": "code",
   "execution_count": 5,
   "metadata": {},
   "outputs": [],
   "source": [
    "docx = nlp(document1)"
   ]
  },
  {
   "cell_type": "code",
   "execution_count": 6,
   "metadata": {},
   "outputs": [],
   "source": [
    "mytokens = [token.text for token in docx]"
   ]
  },
  {
   "cell_type": "code",
   "execution_count": 7,
   "metadata": {},
   "outputs": [],
   "source": [
    "word_frequencies = {}\n",
    "for word in docx:\n",
    "    if word.text not in stopwords:\n",
    "            if word.text not in word_frequencies.keys():\n",
    "                word_frequencies[word.text] = 1\n",
    "            else:\n",
    "                word_frequencies[word.text] += 1"
   ]
  },
  {
   "cell_type": "code",
   "execution_count": 8,
   "metadata": {},
   "outputs": [
    {
     "data": {
      "text/plain": [
       "{'A': 1,\n",
       " 'brief': 1,\n",
       " 'common': 3,\n",
       " 'currency': 2,\n",
       " 'good': 1,\n",
       " 'bad': 1,\n",
       " '.': 10,\n",
       " 'In': 2,\n",
       " 'response': 1,\n",
       " 'Covid19': 1,\n",
       " 'relief': 1,\n",
       " 'measures': 1,\n",
       " ',': 9,\n",
       " 'European': 2,\n",
       " 'Central': 1,\n",
       " 'Bank': 1,\n",
       " 'bought': 1,\n",
       " '3': 1,\n",
       " 'trillion': 1,\n",
       " 'euro': 1,\n",
       " 'worth': 1,\n",
       " 'debts': 1,\n",
       " 'Quantitative': 1,\n",
       " 'Easing': 1,\n",
       " 'despite': 1,\n",
       " 'interest': 1,\n",
       " 'rates': 1,\n",
       " 'simmering': 1,\n",
       " 'While': 1,\n",
       " 'nations': 4,\n",
       " 'recovering': 1,\n",
       " 'Southern': 1,\n",
       " 'facing': 1,\n",
       " 'dire': 1,\n",
       " 'structural': 1,\n",
       " 'problems': 2,\n",
       " 'Stronger': 1,\n",
       " 'countries': 2,\n",
       " 'like': 2,\n",
       " 'Germany': 1,\n",
       " 'Netherlands': 1,\n",
       " 'recover': 1,\n",
       " 'sooner': 1,\n",
       " 'weaker': 1,\n",
       " 'fundamentals': 1,\n",
       " 'Italy': 1,\n",
       " 'Spain': 1,\n",
       " 'Greece': 1,\n",
       " 'article': 1,\n",
       " 'I': 1,\n",
       " 'exploring': 1,\n",
       " 'foundational': 1,\n",
       " 'Euro': 4,\n",
       " 'system': 1,\n",
       " 'concerning': 1,\n",
       " 'crisis': 1,\n",
       " 'previous': 1,\n",
       " 'decade': 1,\n",
       " 'Let': 1,\n",
       " 'start': 1,\n",
       " 'understanding': 1,\n",
       " 'Eurozone': 1,\n",
       " 'It': 1,\n",
       " 'group': 1,\n",
       " 'use': 1,\n",
       " 'They': 1,\n",
       " 'single': 3,\n",
       " 'market': 2,\n",
       " 'goods': 2,\n",
       " 'capital': 1,\n",
       " 'labor': 1,\n",
       " 'customs': 2,\n",
       " 'union': 3,\n",
       " 'imposes': 1,\n",
       " 'tax': 1,\n",
       " 'entering': 1,\n",
       " 'outside': 1,\n",
       " 'The': 1,\n",
       " 'implies': 1,\n",
       " 'free': 1,\n",
       " 'trade': 2,\n",
       " 'agreement': 1,\n",
       " 'member': 1,\n",
       " 'imposing': 1,\n",
       " 'tariffs': 1,\n",
       " 'Since': 1,\n",
       " 'assess': 1,\n",
       " 'viability': 1,\n",
       " 'EUs': 1,\n",
       " 'fit': 1,\n",
       " 'demarcate': 1,\n",
       " 'premise': 1}"
      ]
     },
     "execution_count": 8,
     "metadata": {},
     "output_type": "execute_result"
    }
   ],
   "source": [
    "\n",
    "word_frequencies"
   ]
  },
  {
   "cell_type": "code",
   "execution_count": 9,
   "metadata": {},
   "outputs": [],
   "source": [
    "maximum_frequency = max(word_frequencies.values())"
   ]
  },
  {
   "cell_type": "code",
   "execution_count": 10,
   "metadata": {},
   "outputs": [],
   "source": [
    "\n",
    "for word in word_frequencies.keys():  \n",
    "        word_frequencies[word] = (word_frequencies[word]/maximum_frequency)"
   ]
  },
  {
   "cell_type": "code",
   "execution_count": 11,
   "metadata": {},
   "outputs": [
    {
     "data": {
      "text/plain": [
       "{'A': 0.1,\n",
       " 'brief': 0.1,\n",
       " 'common': 0.3,\n",
       " 'currency': 0.2,\n",
       " 'good': 0.1,\n",
       " 'bad': 0.1,\n",
       " '.': 1.0,\n",
       " 'In': 0.2,\n",
       " 'response': 0.1,\n",
       " 'Covid19': 0.1,\n",
       " 'relief': 0.1,\n",
       " 'measures': 0.1,\n",
       " ',': 0.9,\n",
       " 'European': 0.2,\n",
       " 'Central': 0.1,\n",
       " 'Bank': 0.1,\n",
       " 'bought': 0.1,\n",
       " '3': 0.1,\n",
       " 'trillion': 0.1,\n",
       " 'euro': 0.1,\n",
       " 'worth': 0.1,\n",
       " 'debts': 0.1,\n",
       " 'Quantitative': 0.1,\n",
       " 'Easing': 0.1,\n",
       " 'despite': 0.1,\n",
       " 'interest': 0.1,\n",
       " 'rates': 0.1,\n",
       " 'simmering': 0.1,\n",
       " 'While': 0.1,\n",
       " 'nations': 0.4,\n",
       " 'recovering': 0.1,\n",
       " 'Southern': 0.1,\n",
       " 'facing': 0.1,\n",
       " 'dire': 0.1,\n",
       " 'structural': 0.1,\n",
       " 'problems': 0.2,\n",
       " 'Stronger': 0.1,\n",
       " 'countries': 0.2,\n",
       " 'like': 0.2,\n",
       " 'Germany': 0.1,\n",
       " 'Netherlands': 0.1,\n",
       " 'recover': 0.1,\n",
       " 'sooner': 0.1,\n",
       " 'weaker': 0.1,\n",
       " 'fundamentals': 0.1,\n",
       " 'Italy': 0.1,\n",
       " 'Spain': 0.1,\n",
       " 'Greece': 0.1,\n",
       " 'article': 0.1,\n",
       " 'I': 0.1,\n",
       " 'exploring': 0.1,\n",
       " 'foundational': 0.1,\n",
       " 'Euro': 0.4,\n",
       " 'system': 0.1,\n",
       " 'concerning': 0.1,\n",
       " 'crisis': 0.1,\n",
       " 'previous': 0.1,\n",
       " 'decade': 0.1,\n",
       " 'Let': 0.1,\n",
       " 'start': 0.1,\n",
       " 'understanding': 0.1,\n",
       " 'Eurozone': 0.1,\n",
       " 'It': 0.1,\n",
       " 'group': 0.1,\n",
       " 'use': 0.1,\n",
       " 'They': 0.1,\n",
       " 'single': 0.3,\n",
       " 'market': 0.2,\n",
       " 'goods': 0.2,\n",
       " 'capital': 0.1,\n",
       " 'labor': 0.1,\n",
       " 'customs': 0.2,\n",
       " 'union': 0.3,\n",
       " 'imposes': 0.1,\n",
       " 'tax': 0.1,\n",
       " 'entering': 0.1,\n",
       " 'outside': 0.1,\n",
       " 'The': 0.1,\n",
       " 'implies': 0.1,\n",
       " 'free': 0.1,\n",
       " 'trade': 0.2,\n",
       " 'agreement': 0.1,\n",
       " 'member': 0.1,\n",
       " 'imposing': 0.1,\n",
       " 'tariffs': 0.1,\n",
       " 'Since': 0.1,\n",
       " 'assess': 0.1,\n",
       " 'viability': 0.1,\n",
       " 'EUs': 0.1,\n",
       " 'fit': 0.1,\n",
       " 'demarcate': 0.1,\n",
       " 'premise': 0.1}"
      ]
     },
     "execution_count": 11,
     "metadata": {},
     "output_type": "execute_result"
    }
   ],
   "source": [
    "word_frequencies"
   ]
  },
  {
   "cell_type": "code",
   "execution_count": 12,
   "metadata": {},
   "outputs": [],
   "source": [
    "sentence_list = [ sentence for sentence in docx.sents ]"
   ]
  },
  {
   "cell_type": "code",
   "execution_count": 13,
   "metadata": {},
   "outputs": [
    {
     "data": {
      "text/plain": [
       "['a',\n",
       " 'brief',\n",
       " 'on',\n",
       " 'whether',\n",
       " 'the',\n",
       " 'common',\n",
       " 'currency',\n",
       " 'has',\n",
       " 'done',\n",
       " 'good',\n",
       " 'or',\n",
       " 'bad',\n",
       " '.',\n",
       " 'in',\n",
       " 'response',\n",
       " 'to',\n",
       " 'covid19',\n",
       " 'relief',\n",
       " 'measures',\n",
       " ',',\n",
       " 'the',\n",
       " 'european',\n",
       " 'central',\n",
       " 'bank',\n",
       " 'has',\n",
       " 'bought',\n",
       " '3',\n",
       " 'trillion',\n",
       " 'euro',\n",
       " 'worth',\n",
       " 'debts',\n",
       " 'as',\n",
       " 'a',\n",
       " 'part',\n",
       " 'of',\n",
       " 'quantitative',\n",
       " 'easing',\n",
       " ',',\n",
       " 'and',\n",
       " 'despite',\n",
       " 'that',\n",
       " 'interest',\n",
       " 'rates',\n",
       " 'are',\n",
       " 'simmering',\n",
       " '.',\n",
       " 'while',\n",
       " 'the',\n",
       " 'nations',\n",
       " 'are',\n",
       " 'recovering',\n",
       " ',',\n",
       " 'southern',\n",
       " 'european',\n",
       " 'nations',\n",
       " 'are',\n",
       " 'facing',\n",
       " 'dire',\n",
       " 'structural',\n",
       " 'problems',\n",
       " '.',\n",
       " 'stronger',\n",
       " 'countries',\n",
       " 'like',\n",
       " 'germany',\n",
       " 'and',\n",
       " 'the',\n",
       " 'netherlands',\n",
       " 'will',\n",
       " 'recover',\n",
       " 'much',\n",
       " 'sooner',\n",
       " 'than',\n",
       " 'countries',\n",
       " 'with',\n",
       " 'weaker',\n",
       " 'fundamentals',\n",
       " 'like',\n",
       " 'italy',\n",
       " ',',\n",
       " 'spain',\n",
       " ',',\n",
       " 'and',\n",
       " 'greece',\n",
       " '.',\n",
       " 'in',\n",
       " 'this',\n",
       " 'article',\n",
       " 'thus',\n",
       " 'i',\n",
       " 'will',\n",
       " 'be',\n",
       " 'exploring',\n",
       " 'what',\n",
       " 'are',\n",
       " 'foundational',\n",
       " 'problems',\n",
       " 'in',\n",
       " 'the',\n",
       " 'euro',\n",
       " 'system',\n",
       " 'concerning',\n",
       " 'the',\n",
       " 'euro',\n",
       " 'crisis',\n",
       " 'of',\n",
       " 'the',\n",
       " 'previous',\n",
       " 'decade',\n",
       " '.',\n",
       " 'let',\n",
       " 'us',\n",
       " 'start',\n",
       " 'by',\n",
       " 'understanding',\n",
       " 'what',\n",
       " 'the',\n",
       " 'eurozone',\n",
       " 'is',\n",
       " '.',\n",
       " 'it',\n",
       " 'is',\n",
       " 'a',\n",
       " 'group',\n",
       " 'of',\n",
       " 'nations',\n",
       " 'that',\n",
       " 'use',\n",
       " 'the',\n",
       " 'euro',\n",
       " 'as',\n",
       " 'their',\n",
       " 'common',\n",
       " 'currency',\n",
       " '.',\n",
       " 'they',\n",
       " 'have',\n",
       " 'a',\n",
       " 'single',\n",
       " 'market',\n",
       " 'of',\n",
       " 'goods',\n",
       " ',',\n",
       " 'capital',\n",
       " ',',\n",
       " 'labor',\n",
       " ',',\n",
       " 'and',\n",
       " 'a',\n",
       " 'customs',\n",
       " 'union',\n",
       " 'that',\n",
       " 'imposes',\n",
       " 'a',\n",
       " 'common',\n",
       " 'tax',\n",
       " 'on',\n",
       " 'goods',\n",
       " 'entering',\n",
       " 'from',\n",
       " 'outside',\n",
       " 'the',\n",
       " 'union',\n",
       " '.',\n",
       " 'the',\n",
       " 'single',\n",
       " 'market',\n",
       " 'implies',\n",
       " 'they',\n",
       " 'have',\n",
       " 'a',\n",
       " 'free',\n",
       " 'trade',\n",
       " 'agreement',\n",
       " 'with',\n",
       " 'member',\n",
       " 'nations',\n",
       " 'imposing',\n",
       " 'no',\n",
       " 'tariffs',\n",
       " 'on',\n",
       " 'each',\n",
       " 'other',\n",
       " '.',\n",
       " 'since',\n",
       " 'we',\n",
       " 'assess',\n",
       " 'the',\n",
       " 'viability',\n",
       " 'of',\n",
       " 'the',\n",
       " 'euro',\n",
       " 'in',\n",
       " 'the',\n",
       " 'eus',\n",
       " 'single',\n",
       " 'trade',\n",
       " 'and',\n",
       " 'customs',\n",
       " 'union',\n",
       " ',',\n",
       " 'it',\n",
       " 'would',\n",
       " 'fit',\n",
       " 'us',\n",
       " 'to',\n",
       " 'first',\n",
       " 'demarcate',\n",
       " 'our',\n",
       " 'premise',\n",
       " '.']"
      ]
     },
     "execution_count": 13,
     "metadata": {},
     "output_type": "execute_result"
    }
   ],
   "source": [
    "[w.text.lower() for t in sentence_list for w in t ]"
   ]
  },
  {
   "cell_type": "code",
   "execution_count": 17,
   "metadata": {},
   "outputs": [],
   "source": [
    "sentence_scores = {}  \n",
    "for sent in sentence_list:  \n",
    "        for word in sent:\n",
    "            if word.text.lower() in word_frequencies.keys():\n",
    "                if len(sent.text.split(' ')) < 30:\n",
    "                    if sent not in sentence_scores.keys():\n",
    "                        sentence_scores[sent] = word_frequencies[word.text.lower()]\n",
    "                    else:\n",
    "                        sentence_scores[sent] += word_frequencies[word.text.lower()]"
   ]
  },
  {
   "cell_type": "code",
   "execution_count": 18,
   "metadata": {},
   "outputs": [
    {
     "ename": "AttributeError",
     "evalue": "'str' object has no attribute 'text'",
     "output_type": "error",
     "traceback": [
      "\u001b[1;31m---------------------------------------------------------------------------\u001b[0m",
      "\u001b[1;31mAttributeError\u001b[0m                            Traceback (most recent call last)",
      "\u001b[1;32m<ipython-input-18-306dcc7d10c1>\u001b[0m in \u001b[0;36m<module>\u001b[1;34m\u001b[0m\n\u001b[0;32m      3\u001b[0m \u001b[1;32mfor\u001b[0m \u001b[0msent\u001b[0m \u001b[1;32min\u001b[0m \u001b[0mlowered_sentence_list\u001b[0m\u001b[1;33m:\u001b[0m\u001b[1;33m\u001b[0m\u001b[1;33m\u001b[0m\u001b[0m\n\u001b[0;32m      4\u001b[0m         \u001b[1;32mfor\u001b[0m \u001b[0mword\u001b[0m \u001b[1;32min\u001b[0m \u001b[0msent\u001b[0m\u001b[1;33m:\u001b[0m\u001b[1;33m\u001b[0m\u001b[1;33m\u001b[0m\u001b[0m\n\u001b[1;32m----> 5\u001b[1;33m             \u001b[1;32mif\u001b[0m \u001b[0mword\u001b[0m\u001b[1;33m.\u001b[0m\u001b[0mtext\u001b[0m \u001b[1;32min\u001b[0m \u001b[0mword_frequencies\u001b[0m\u001b[1;33m.\u001b[0m\u001b[0mkeys\u001b[0m\u001b[1;33m(\u001b[0m\u001b[1;33m)\u001b[0m\u001b[1;33m:\u001b[0m\u001b[1;33m\u001b[0m\u001b[1;33m\u001b[0m\u001b[0m\n\u001b[0m\u001b[0;32m      6\u001b[0m                 \u001b[1;32mif\u001b[0m \u001b[0mlen\u001b[0m\u001b[1;33m(\u001b[0m\u001b[0msent\u001b[0m\u001b[1;33m.\u001b[0m\u001b[0msplit\u001b[0m\u001b[1;33m(\u001b[0m\u001b[1;34m' '\u001b[0m\u001b[1;33m)\u001b[0m\u001b[1;33m)\u001b[0m \u001b[1;33m<\u001b[0m \u001b[1;36m30\u001b[0m\u001b[1;33m:\u001b[0m\u001b[1;33m\u001b[0m\u001b[1;33m\u001b[0m\u001b[0m\n\u001b[0;32m      7\u001b[0m                     \u001b[1;32mif\u001b[0m \u001b[0msent\u001b[0m \u001b[1;32mnot\u001b[0m \u001b[1;32min\u001b[0m \u001b[0msentence_scores\u001b[0m\u001b[1;33m.\u001b[0m\u001b[0mkeys\u001b[0m\u001b[1;33m(\u001b[0m\u001b[1;33m)\u001b[0m\u001b[1;33m:\u001b[0m\u001b[1;33m\u001b[0m\u001b[1;33m\u001b[0m\u001b[0m\n",
      "\u001b[1;31mAttributeError\u001b[0m: 'str' object has no attribute 'text'"
     ]
    }
   ],
   "source": [
    "lowered_sentence_list = [w.text.lower() for t in sentence_list for w in t ]\n",
    "lowered_sentence_scores = {}  \n",
    "for sent in lowered_sentence_list:  \n",
    "        for word in sent:\n",
    "            if word.text in word_frequencies.keys():\n",
    "                if len(sent.split(' ')) < 30:\n",
    "                    if sent not in sentence_scores.keys():\n",
    "                        lowered_sentence_scores[sent] = word_frequencies[word.text]\n",
    "                    else:\n",
    "                        lowered_sentence_scores[sent] += word_frequencies[word.text]\n"
   ]
  },
  {
   "cell_type": "code",
   "execution_count": 16,
   "metadata": {},
   "outputs": [
    {
     "data": {
      "text/plain": [
       "{A brief on whether the common currency has done good or bad.: 1.8,\n",
       " While the nations are recovering, Southern European nations are facing dire structural problems.: 3.3000000000000003,\n",
       " Stronger countries like Germany and the Netherlands will recover much sooner than countries with weaker fundamentals like Italy, Spain, and Greece.: 4.0,\n",
       " In this article thus I will be exploring what are foundational problems in the Euro system concerning the Euro crisis of the previous decade.: 2.2,\n",
       " Let us start by understanding what the Eurozone is.: 1.2,\n",
       " It is a group of nations that use the Euro as their common currency.: 2.2,\n",
       " They have a single market of goods, capital, labor, and a customs union that imposes a common tax on goods entering from outside the union.: 6.299999999999999,\n",
       " The single market implies they have a free trade agreement with member nations imposing no tariffs on each other.: 2.7,\n",
       " Since we assess the viability of the Euro in the EUs single trade and customs union, it would fit us to first demarcate our premise.: 3.5000000000000004}"
      ]
     },
     "execution_count": 16,
     "metadata": {},
     "output_type": "execute_result"
    }
   ],
   "source": [
    "sentence_scores"
   ]
  },
  {
   "cell_type": "code",
   "execution_count": 19,
   "metadata": {},
   "outputs": [
    {
     "data": {
      "text/plain": [
       "{A brief on whether the common currency has done good or bad.: 1.8,\n",
       " While the nations are recovering, Southern European nations are facing dire structural problems.: 3.3000000000000003,\n",
       " Stronger countries like Germany and the Netherlands will recover much sooner than countries with weaker fundamentals like Italy, Spain, and Greece.: 4.0,\n",
       " In this article thus I will be exploring what are foundational problems in the Euro system concerning the Euro crisis of the previous decade.: 2.2,\n",
       " Let us start by understanding what the Eurozone is.: 1.2,\n",
       " It is a group of nations that use the Euro as their common currency.: 2.2,\n",
       " They have a single market of goods, capital, labor, and a customs union that imposes a common tax on goods entering from outside the union.: 6.299999999999999,\n",
       " The single market implies they have a free trade agreement with member nations imposing no tariffs on each other.: 2.7,\n",
       " Since we assess the viability of the Euro in the EUs single trade and customs union, it would fit us to first demarcate our premise.: 3.5000000000000004}"
      ]
     },
     "execution_count": 19,
     "metadata": {},
     "output_type": "execute_result"
    }
   ],
   "source": [
    "sentence_scores"
   ]
  },
  {
   "cell_type": "code",
   "execution_count": 20,
   "metadata": {},
   "outputs": [],
   "source": [
    "from heapq import nlargest\n",
    "summarized_sentences = nlargest(7, sentence_scores, key=sentence_scores.get)"
   ]
  },
  {
   "cell_type": "code",
   "execution_count": 21,
   "metadata": {},
   "outputs": [
    {
     "data": {
      "text/plain": [
       "[They have a single market of goods, capital, labor, and a customs union that imposes a common tax on goods entering from outside the union.,\n",
       " Stronger countries like Germany and the Netherlands will recover much sooner than countries with weaker fundamentals like Italy, Spain, and Greece.,\n",
       " Since we assess the viability of the Euro in the EUs single trade and customs union, it would fit us to first demarcate our premise.,\n",
       " While the nations are recovering, Southern European nations are facing dire structural problems.,\n",
       " The single market implies they have a free trade agreement with member nations imposing no tariffs on each other.,\n",
       " In this article thus I will be exploring what are foundational problems in the Euro system concerning the Euro crisis of the previous decade.,\n",
       " It is a group of nations that use the Euro as their common currency.]"
      ]
     },
     "execution_count": 21,
     "metadata": {},
     "output_type": "execute_result"
    }
   ],
   "source": [
    "summarized_sentences"
   ]
  },
  {
   "cell_type": "code",
   "execution_count": 22,
   "metadata": {},
   "outputs": [
    {
     "name": "stdout",
     "output_type": "stream",
     "text": [
      "They have a single market of goods, capital, labor, and a customs union that imposes a common tax on goods entering from outside the union.\n",
      "Stronger countries like Germany and the Netherlands will recover much sooner than countries with weaker fundamentals like Italy, Spain, and Greece.\n",
      "Since we assess the viability of the Euro in the EUs single trade and customs union, it would fit us to first demarcate our premise.\n",
      "While the nations are recovering, Southern European nations are facing dire structural problems.\n",
      "The single market implies they have a free trade agreement with member nations imposing no tariffs on each other.\n",
      "In this article thus I will be exploring what are foundational problems in the Euro system concerning the Euro crisis of the previous decade.\n",
      "It is a group of nations that use the Euro as their common currency.\n"
     ]
    }
   ],
   "source": [
    "for w in summarized_sentences:\n",
    "    print(w.text)"
   ]
  },
  {
   "cell_type": "code",
   "execution_count": 23,
   "metadata": {},
   "outputs": [],
   "source": [
    "final_sentences = [ w.text for w in summarized_sentences ]"
   ]
  },
  {
   "cell_type": "code",
   "execution_count": 24,
   "metadata": {},
   "outputs": [],
   "source": [
    "\n",
    "summary = ' '.join(final_sentences)"
   ]
  },
  {
   "cell_type": "code",
   "execution_count": 25,
   "metadata": {},
   "outputs": [
    {
     "data": {
      "text/plain": [
       "'They have a single market of goods, capital, labor, and a customs union that imposes a common tax on goods entering from outside the union. Stronger countries like Germany and the Netherlands will recover much sooner than countries with weaker fundamentals like Italy, Spain, and Greece. Since we assess the viability of the Euro in the EUs single trade and customs union, it would fit us to first demarcate our premise. While the nations are recovering, Southern European nations are facing dire structural problems. The single market implies they have a free trade agreement with member nations imposing no tariffs on each other. In this article thus I will be exploring what are foundational problems in the Euro system concerning the Euro crisis of the previous decade. It is a group of nations that use the Euro as their common currency.'"
      ]
     },
     "execution_count": 25,
     "metadata": {},
     "output_type": "execute_result"
    }
   ],
   "source": [
    "summary"
   ]
  },
  {
   "cell_type": "code",
   "execution_count": 26,
   "metadata": {},
   "outputs": [
    {
     "data": {
      "text/plain": [
       "842"
      ]
     },
     "execution_count": 26,
     "metadata": {},
     "output_type": "execute_result"
    }
   ],
   "source": [
    "len(summary)"
   ]
  },
  {
   "cell_type": "code",
   "execution_count": 27,
   "metadata": {},
   "outputs": [
    {
     "data": {
      "text/plain": [
       "1140"
      ]
     },
     "execution_count": 27,
     "metadata": {},
     "output_type": "execute_result"
    }
   ],
   "source": [
    "len(document1)"
   ]
  },
  {
   "cell_type": "code",
   "execution_count": 30,
   "metadata": {},
   "outputs": [],
   "source": [
    "def text_summarizer(raw_docx):\n",
    "    raw_text = raw_docx\n",
    "    docx = nlp(raw_text)\n",
    "    stopwords = list(STOP_WORDS)\n",
    "    # Build Word Frequency\n",
    "# word.text is tokenization in spacy\n",
    "    word_frequencies = {}  \n",
    "    for word in docx:  \n",
    "        if word.text not in stopwords:\n",
    "            if word.text not in word_frequencies.keys():\n",
    "                word_frequencies[word.text] = 1\n",
    "            else:\n",
    "                word_frequencies[word.text] += 1\n",
    "\n",
    "\n",
    "    maximum_frequncy = max(word_frequencies.values())\n",
    "\n",
    "    for word in word_frequencies.keys():  \n",
    "        word_frequencies[word] = (word_frequencies[word]/maximum_frequncy)\n",
    "    # Sentence Tokens\n",
    "    sentence_list = [ sentence for sentence in docx.sents ]\n",
    "\n",
    "    # Calculate Sentence Score and Ranking\n",
    "    sentence_scores = {}  \n",
    "    for sent in sentence_list:  \n",
    "        for word in sent:\n",
    "            if word.text.lower() in word_frequencies.keys():\n",
    "                if len(sent.text.split(' ')) < 30:\n",
    "                    if sent not in sentence_scores.keys():\n",
    "                        sentence_scores[sent] = word_frequencies[word.text.lower()]\n",
    "                    else:\n",
    "                        sentence_scores[sent] += word_frequencies[word.text.lower()]\n",
    "\n",
    "    # Find N Largest\n",
    "    summary_sentences = nlargest(5, sentence_scores, key=sentence_scores.get)\n",
    "    final_sentences = [ w.text for w in summary_sentences ]\n",
    "    summary = ' '.join(final_sentences)\n",
    "    print(\"Original Document\\n\")\n",
    "    print(raw_docx)\n",
    "    print(\"Total Length:\",len(raw_docx))\n",
    "    print('\\n\\nSummarized Document\\n')\n",
    "    print(summary)\n",
    "    print(\"Total Length:\",len(summary))"
   ]
  },
  {
   "cell_type": "code",
   "execution_count": 32,
   "metadata": {},
   "outputs": [
    {
     "name": "stdout",
     "output_type": "stream",
     "text": [
      "Original Document\n",
      "\n",
      "The potential harms materialized after the 2008 crisis. One must realize that the whole process of investments, capital flow, and other related problems emerged to an extent from the single market. The exposition of Greece’s tax evasion and debt crisis meant their credibility was lost, investments were backing out, wages were falling and no one was lending money. A complete recession in a recession.\n",
      "Total Length: 402\n",
      "\n",
      "\n",
      "Summarized Document\n",
      "\n",
      "tax evasion and debt crisis meant their credibility was lost, investments were backing out, wages were falling and no one was lending money. One must realize that the whole process of investments, capital flow, and other related problems emerged to an extent from the single market. The potential harms materialized after the 2008 crisis. A complete recession in a recession. The exposition of Greece’s\n",
      "Total Length: 402\n"
     ]
    }
   ],
   "source": [
    "text_summarizer(document2)"
   ]
  },
  {
   "cell_type": "code",
   "execution_count": null,
   "metadata": {},
   "outputs": [],
   "source": []
  }
 ],
 "metadata": {
  "kernelspec": {
   "display_name": "Python 3",
   "language": "python",
   "name": "python3"
  },
  "language_info": {
   "codemirror_mode": {
    "name": "ipython",
    "version": 3
   },
   "file_extension": ".py",
   "mimetype": "text/x-python",
   "name": "python",
   "nbconvert_exporter": "python",
   "pygments_lexer": "ipython3",
   "version": "3.8.3"
  }
 },
 "nbformat": 4,
 "nbformat_minor": 4
}
